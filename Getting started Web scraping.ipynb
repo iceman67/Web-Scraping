{
 "cells": [
  {
   "cell_type": "markdown",
   "metadata": {},
   "source": [
    "[REF]\n",
    "https://medium.com/@kaustumbhjaiswal7/learn-web-scraping-using-python-in-under-5-minutes-36a7d4d6e1e7\n",
    "https://medium.com/incedge/web-scraping-bf2d814cc572\n",
    "\n",
    "[Topic]\n",
    "Web scraping is harvesting or extracting desired information from a webpage\n",
    "It is the practice of gathering data through any means other than API\n",
    "\n",
    "For web scraping we are going to use the very popular Python library called BeautifulSoup\n",
    "\n",
    "[Pre-requisite]\n",
    "https://github.com/feliciahsieh/holbertonschool-webstack_basics/tree/master/0x01-python_basics\n",
    "https://github.com/feliciahsieh/holbertonschool-webstack_basics/tree/master/0x03-python_web_scraping\n",
    "pip install beautifulsoup4"
   ]
  },
  {
   "cell_type": "code",
   "execution_count": 1,
   "metadata": {},
   "outputs": [],
   "source": [
    "# import libraries\n",
    "from urllib.request import urlopen\n",
    "from bs4 import BeautifulSoup"
   ]
  },
  {
   "cell_type": "code",
   "execution_count": 2,
   "metadata": {},
   "outputs": [],
   "source": [
    "# specify the url\n",
    "url = \"https://www.bbc.com/sport/football/46897172\""
   ]
  },
  {
   "cell_type": "code",
   "execution_count": 3,
   "metadata": {},
   "outputs": [],
   "source": [
    "# Connect to the website and return the html to the variable ‘page’\n",
    "try:\n",
    "    page = urlopen(url)\n",
    "except:\n",
    "    print(\"Error opening the URL\")\n",
    "\n",
    "# parse the html using beautiful soup and store in variable `soup`\n",
    "soup = BeautifulSoup(page, 'html.parser')"
   ]
  },
  {
   "cell_type": "markdown",
   "metadata": {},
   "source": [
    "Extracting the required elements"
   ]
  },
  {
   "cell_type": "code",
   "execution_count": 4,
   "metadata": {},
   "outputs": [
    {
     "name": "stdout",
     "output_type": "stream",
     "text": [
      " Cristiano Ronaldo's header was enough for Juventus to beat AC Milan and claim a record eighth Supercoppa Italiana in a game played in Jeddah, Saudi Arabia. The Portugal forward nodded in Miralem Pjanic's lofted pass in the second half to settle a meeting between Italian football's two most successful clubs. It was Ronaldo's 16th goal of the season for the Serie A leaders. Patrick Cutrone hit the crossbar for Milan, who had Ivorian midfielder Franck Kessie sent off. Gonzalo Higuain, reportedly the subject of interest from Chelsea, was introduced as a substitute by Milan boss Gennaro Gattuso in Italy's version of the Community Shield. But the 31-year-old Argentina forward, who is currently on loan from Juventus, was unable to deliver an equalising goal for the Rossoneri, who were beaten 4-0 by Juve in the Coppa Italia final in May.\n"
     ]
    }
   ],
   "source": [
    "# Take out the <div> of name and get its value\n",
    "content = soup.find('div', {\"class\": \"story-body sp-story-body gel-body-copy\"})\n",
    "\n",
    "article = ''\n",
    "for i in content.findAll('p'):\n",
    "    article = article + ' ' +  i.text\n",
    "print(article)\n",
    "\n"
   ]
  },
  {
   "cell_type": "markdown",
   "metadata": {},
   "source": [
    "Saving the parsed text"
   ]
  },
  {
   "cell_type": "code",
   "execution_count": 5,
   "metadata": {},
   "outputs": [],
   "source": [
    "# Saving the scraped text\n",
    "with open('scraped_text.txt', 'w') as file:\n",
    "    file.write(article)"
   ]
  },
  {
   "cell_type": "code",
   "execution_count": null,
   "metadata": {},
   "outputs": [],
   "source": []
  },
  {
   "cell_type": "code",
   "execution_count": 25,
   "metadata": {},
   "outputs": [],
   "source": [
    "#!/usr/bin/python3\n",
    "import requests                # Include HTTP Requests module\n",
    "from bs4 import BeautifulSoup  # Include BS web scraping module\n",
    "url = \"http://www.pyladies.com\" # Website / URL we will contact\n",
    "r = requests.get(url)           # Sends HTTP GET Request\n",
    "soup = BeautifulSoup(r.text, \"html.parser\") # Parses HTTP Response\n",
    "#print(soup.prettify())          # Prints user-friendly results"
   ]
  },
  {
   "cell_type": "code",
   "execution_count": 7,
   "metadata": {},
   "outputs": [
    {
     "name": "stdout",
     "output_type": "stream",
     "text": [
      "200\n"
     ]
    }
   ],
   "source": [
    "print(r.status_code)"
   ]
  },
  {
   "cell_type": "code",
   "execution_count": 12,
   "metadata": {},
   "outputs": [],
   "source": [
    "divs = soup.findAll('div')"
   ]
  },
  {
   "cell_type": "code",
   "execution_count": 13,
   "metadata": {},
   "outputs": [
    {
     "name": "stdout",
     "output_type": "stream",
     "text": [
      "[<div class=\"header\">\n",
      "<div id=\"pyladies_header_logo\">\n",
      "<a href=\"/\"><img alt=\"PyLadies Logo\" height=\"120\" src=\"/assets/images/pyladies_logo.png\" width=\"260\"/></a>\n",
      "</div>\n",
      "<nav>\n",
      "<ul class=\"nav-wrapper\">\n",
      "<li><a href=\"/\">Home</a></li>\n",
      "<li><a href=\"/about/\">About</a></li>\n",
      "<li><a href=\"https://discuss.pyladies.com\">Forum</a></li>\n",
      "<li><a href=\"/locations/\">Locations</a></li>\n",
      "<li><a href=\"https://blog.pyladies.com\">Blog</a></li>\n",
      "<li><a href=\"/CodeOfConduct/\">Code of Conduct</a></li>\n",
      "<li><a href=\"/resources/\">Resources</a></li>\n",
      "<li><a href=\"/cdn-cgi/l/email-protection#a8c1c6cec7e8d8d1c4c9ccc1cddb86cbc7c597dbddcac2cdcbdc95e0cdc4c4c7\" id=\"contact-link\">Contact</a></li>\n",
      "<li><a href=\"http://pyladies.com/feed.xml\" title=\"RSS\">RSS</a></li>\n",
      "</ul>\n",
      "</nav>\n",
      "</div>, <div id=\"pyladies_header_logo\">\n",
      "<a href=\"/\"><img alt=\"PyLadies Logo\" height=\"120\" src=\"/assets/images/pyladies_logo.png\" width=\"260\"/></a>\n",
      "</div>, <div class=\"page\">\n",
      "<h1 id=\"homepage_h1\">Welcome!</h1>\n",
      "<section id=\"archive\">\n",
      "<article class=\"welcome\">\n",
      "<div id=\"welcome_message\">\n",
      "<h2>Welcome!</h2>\n",
      "<img alt=\"Pyladies lady graphic\" src=\"/assets/images/pylady_geek.png\"/>\n",
      "<p>We are an international mentorship group with a focus on helping more women become active participants and leaders in the Python open-source community. Our mission is to promote, educate and advance a diverse Python community through outreach, education, conferences, events and social gatherings.</p>\n",
      "<p>PyLadies also aims to provide a friendly support network for women and a bridge to the larger Python world. Anyone with an interest in Python is encouraged to participate!</p>\n",
      "</div>\n",
      "</article>\n",
      "<article class=\"latest\">\n",
      "<h3 class=\"latest-master\">Latest Blog Posts</h3>\n",
      "<div id=\"latestBlog\">\n",
      "<h3><a href=\"/blog/PyLadies-Global-Council-Selection-Process-Voting-Now-Open/pyladies-global-council-process-vote/\">PyLadies Global Council Selection Process Voting Now Open!</a></h3>\n",
      "<time datetime=\"2019-12-18\" pubdate=\"\">December 18, 2019</time>\n",
      "<p>None  <a class=\"more-link\" href=\"/blog/PyLadies-Global-Council-Selection-Process-Voting-Now-Open/pyladies-global-council-process-vote/\">Read more →</a></p>\n",
      "<h3><a href=\"/blog/Help-us-decide-our-PyLadies-Projects-and-PyLadies-Global-Council-Selection-Process/help-us-with-pyladies-project-and-council-selection/\">Help us decide our PyLadies Projects and PyLadies Global Council Selection Process!</a></h3>\n",
      "<time datetime=\"2019-11-04\" pubdate=\"\">November 04, 2019</time>\n",
      "<p>None  <a class=\"more-link\" href=\"/blog/Help-us-decide-our-PyLadies-Projects-and-PyLadies-Global-Council-Selection-Process/help-us-with-pyladies-project-and-council-selection/\">Read more →</a></p>\n",
      "</div>\n",
      "</article>\n",
      "</section>\n",
      "</div>, <div id=\"welcome_message\">\n",
      "<h2>Welcome!</h2>\n",
      "<img alt=\"Pyladies lady graphic\" src=\"/assets/images/pylady_geek.png\"/>\n",
      "<p>We are an international mentorship group with a focus on helping more women become active participants and leaders in the Python open-source community. Our mission is to promote, educate and advance a diverse Python community through outreach, education, conferences, events and social gatherings.</p>\n",
      "<p>PyLadies also aims to provide a friendly support network for women and a bridge to the larger Python world. Anyone with an interest in Python is encouraged to participate!</p>\n",
      "</div>, <div id=\"latestBlog\">\n",
      "<h3><a href=\"/blog/PyLadies-Global-Council-Selection-Process-Voting-Now-Open/pyladies-global-council-process-vote/\">PyLadies Global Council Selection Process Voting Now Open!</a></h3>\n",
      "<time datetime=\"2019-12-18\" pubdate=\"\">December 18, 2019</time>\n",
      "<p>None  <a class=\"more-link\" href=\"/blog/PyLadies-Global-Council-Selection-Process-Voting-Now-Open/pyladies-global-council-process-vote/\">Read more →</a></p>\n",
      "<h3><a href=\"/blog/Help-us-decide-our-PyLadies-Projects-and-PyLadies-Global-Council-Selection-Process/help-us-with-pyladies-project-and-council-selection/\">Help us decide our PyLadies Projects and PyLadies Global Council Selection Process!</a></h3>\n",
      "<time datetime=\"2019-11-04\" pubdate=\"\">November 04, 2019</time>\n",
      "<p>None  <a class=\"more-link\" href=\"/blog/Help-us-decide-our-PyLadies-Projects-and-PyLadies-Global-Council-Selection-Process/help-us-with-pyladies-project-and-council-selection/\">Read more →</a></p>\n",
      "</div>, <div class=\"sidebar\">\n",
      "<div id=\"mc_embed_signup\">\n",
      "<form action=\"https://pyladies.us2.list-manage1.com/subscribe/post?u=9d20e0bc6bc0e88a076738c6f&amp;id=23e4f35e45\" class=\"validate\" id=\"mc-embedded-subscribe-form\" method=\"post\" name=\"mc-embedded-subscribe-form\" novalidate=\"\" target=\"_blank\">\n",
      "<label for=\"mce-EMAIL\">Keep up with what's going in the PyLadies community on our low-volume announcement list.  Men and women from everywhere are welcome.  Unsubscribe anytime. </label>\n",
      "<input class=\"email\" id=\"mce-EMAIL\" name=\"EMAIL\" placeholder=\"email address\" required=\"\" type=\"email\" value=\"\"/>\n",
      "<div class=\"clear\"><input class=\"button\" id=\"mc-embedded-subscribe\" name=\"subscribe\" type=\"submit\" value=\"Subscribe\"/></div>\n",
      "</form>\n",
      "</div>\n",
      "<div id=\"sponsor_us_btn\"><a href=\"/sponsor/\">Sponsor Us</a></div>\n",
      "<div id=\"shirts_btn\" style=\"display:flex;justify-content:center;align-items:center;font-size:14px;\"><a href=\"https://pyladies.spreadshirt.com/\">Get Swag</a></div>\n",
      "<div id=\"stickers_btn\" style=\"display:flex;justify-content:center;align-items:center;font-size:14px;\"><a href=\"https://www.stickermule.com/user/1070441144/stickers\">Buy Stickers</a></div>\n",
      "<h3>Upcoming Meetups</h3>\n",
      "<div id=\"upcomingMeetupsList\">\n",
      "</div>\n",
      "<div id=\"twitter_feed\">\n",
      "<h3>Recent Tweets</h3>\n",
      "<div id=\"chapter_tweets\">\n",
      "<a class=\"twitter-timeline\" data-widget-id=\"635861904234258433\" height=\"400\" href=\"https://twitter.com/pyladies/lists/pyladies-locations\" width=\"400\">Tweets from https://twitter.com/pyladies/lists/pyladies-locations</a>\n",
      "<script data-cfasync=\"false\" src=\"/cdn-cgi/scripts/5c5dd728/cloudflare-static/email-decode.min.js\"></script><script>!function(d,s,id){var js,fjs=d.getElementsByTagName(s)[0],p=/^http:/.test(d.location)?'http':'https';if(!d.getElementById(id)){js=d.createElement(s);js.id=id;js.src=p+\"://platform.twitter.com/widgets.js\";fjs.parentNode.insertBefore(js,fjs);}}(document,\"script\",\"twitter-wjs\");</script>\n",
      "</div>\n",
      "</div>\n",
      "</div>, <div id=\"mc_embed_signup\">\n",
      "<form action=\"https://pyladies.us2.list-manage1.com/subscribe/post?u=9d20e0bc6bc0e88a076738c6f&amp;id=23e4f35e45\" class=\"validate\" id=\"mc-embedded-subscribe-form\" method=\"post\" name=\"mc-embedded-subscribe-form\" novalidate=\"\" target=\"_blank\">\n",
      "<label for=\"mce-EMAIL\">Keep up with what's going in the PyLadies community on our low-volume announcement list.  Men and women from everywhere are welcome.  Unsubscribe anytime. </label>\n",
      "<input class=\"email\" id=\"mce-EMAIL\" name=\"EMAIL\" placeholder=\"email address\" required=\"\" type=\"email\" value=\"\"/>\n",
      "<div class=\"clear\"><input class=\"button\" id=\"mc-embedded-subscribe\" name=\"subscribe\" type=\"submit\" value=\"Subscribe\"/></div>\n",
      "</form>\n",
      "</div>, <div class=\"clear\"><input class=\"button\" id=\"mc-embedded-subscribe\" name=\"subscribe\" type=\"submit\" value=\"Subscribe\"/></div>, <div id=\"sponsor_us_btn\"><a href=\"/sponsor/\">Sponsor Us</a></div>, <div id=\"shirts_btn\" style=\"display:flex;justify-content:center;align-items:center;font-size:14px;\"><a href=\"https://pyladies.spreadshirt.com/\">Get Swag</a></div>, <div id=\"stickers_btn\" style=\"display:flex;justify-content:center;align-items:center;font-size:14px;\"><a href=\"https://www.stickermule.com/user/1070441144/stickers\">Buy Stickers</a></div>, <div id=\"upcomingMeetupsList\">\n",
      "</div>, <div id=\"twitter_feed\">\n",
      "<h3>Recent Tweets</h3>\n",
      "<div id=\"chapter_tweets\">\n",
      "<a class=\"twitter-timeline\" data-widget-id=\"635861904234258433\" height=\"400\" href=\"https://twitter.com/pyladies/lists/pyladies-locations\" width=\"400\">Tweets from https://twitter.com/pyladies/lists/pyladies-locations</a>\n",
      "<script data-cfasync=\"false\" src=\"/cdn-cgi/scripts/5c5dd728/cloudflare-static/email-decode.min.js\"></script><script>!function(d,s,id){var js,fjs=d.getElementsByTagName(s)[0],p=/^http:/.test(d.location)?'http':'https';if(!d.getElementById(id)){js=d.createElement(s);js.id=id;js.src=p+\"://platform.twitter.com/widgets.js\";fjs.parentNode.insertBefore(js,fjs);}}(document,\"script\",\"twitter-wjs\");</script>\n",
      "</div>\n",
      "</div>, <div id=\"chapter_tweets\">\n",
      "<a class=\"twitter-timeline\" data-widget-id=\"635861904234258433\" height=\"400\" href=\"https://twitter.com/pyladies/lists/pyladies-locations\" width=\"400\">Tweets from https://twitter.com/pyladies/lists/pyladies-locations</a>\n",
      "<script data-cfasync=\"false\" src=\"/cdn-cgi/scripts/5c5dd728/cloudflare-static/email-decode.min.js\"></script><script>!function(d,s,id){var js,fjs=d.getElementsByTagName(s)[0],p=/^http:/.test(d.location)?'http':'https';if(!d.getElementById(id)){js=d.createElement(s);js.id=id;js.src=p+\"://platform.twitter.com/widgets.js\";fjs.parentNode.insertBefore(js,fjs);}}(document,\"script\",\"twitter-wjs\");</script>\n",
      "</div>, <div class=\"footer-wrapper\">\n",
      "<footer id=\"bottom\">\n",
      "<ul class=\"social\">\n",
      "<li><a class=\"icon google-plus\" data-icon=\"\" href=\"https://plus.google.com/communities/108807002736066163985\" title=\"Google+\"></a></li>\n",
      "<li><a class=\"icon github\" data-icon=\"\" href=\"https://github.com/pyladies\" title=\"GitHub\"></a></li>\n",
      "<li><a class=\"icon rss\" data-icon=\"\" href=\"http://pyladies.com/feed.xml\" title=\"RSS\"></a></li>\n",
      "<li><a class=\"icon creative-commons\" data-icon=\"🕅\" href=\"https://creativecommons.org/licenses/by-sa/3.0/\" title=\"Creative Commons\"></a></li>\n",
      "<ul class=\"footer-notice\">\n",
      "<li>2007 - 2020 PyLadies. All Rights Reserved.</li>\n",
      "<li>Disclaimer - PyLadies and the PyLadies logo are trademarks of the Python Software Foundation</li>\n",
      "</ul>\n",
      "</ul>\n",
      "</footer>\n",
      "</div>]\n"
     ]
    }
   ],
   "source": [
    "print (divs)"
   ]
  },
  {
   "cell_type": "code",
   "execution_count": 14,
   "metadata": {},
   "outputs": [],
   "source": [
    "div_welcome = soup.findAll('div', id=\"welcome_message\")"
   ]
  },
  {
   "cell_type": "code",
   "execution_count": 15,
   "metadata": {},
   "outputs": [
    {
     "name": "stdout",
     "output_type": "stream",
     "text": [
      "[<div id=\"welcome_message\">\n",
      "<h2>Welcome!</h2>\n",
      "<img alt=\"Pyladies lady graphic\" src=\"/assets/images/pylady_geek.png\"/>\n",
      "<p>We are an international mentorship group with a focus on helping more women become active participants and leaders in the Python open-source community. Our mission is to promote, educate and advance a diverse Python community through outreach, education, conferences, events and social gatherings.</p>\n",
      "<p>PyLadies also aims to provide a friendly support network for women and a bridge to the larger Python world. Anyone with an interest in Python is encouraged to participate!</p>\n",
      "</div>]\n"
     ]
    }
   ],
   "source": [
    "print (div_welcome)"
   ]
  },
  {
   "cell_type": "code",
   "execution_count": 16,
   "metadata": {},
   "outputs": [
    {
     "data": {
      "text/plain": [
       "<title>PyLadies – Women Who Love Coding in Python</title>"
      ]
     },
     "execution_count": 16,
     "metadata": {},
     "output_type": "execute_result"
    }
   ],
   "source": [
    "soup.title"
   ]
  },
  {
   "cell_type": "code",
   "execution_count": 17,
   "metadata": {},
   "outputs": [
    {
     "data": {
      "text/plain": [
       "<h1 id=\"homepage_h1\">Welcome!</h1>"
      ]
     },
     "execution_count": 17,
     "metadata": {},
     "output_type": "execute_result"
    }
   ],
   "source": [
    "soup.h1"
   ]
  },
  {
   "cell_type": "code",
   "execution_count": 18,
   "metadata": {},
   "outputs": [
    {
     "data": {
      "text/plain": [
       "<div class=\"header\">\n",
       "<div id=\"pyladies_header_logo\">\n",
       "<a href=\"/\"><img alt=\"PyLadies Logo\" height=\"120\" src=\"/assets/images/pyladies_logo.png\" width=\"260\"/></a>\n",
       "</div>\n",
       "<nav>\n",
       "<ul class=\"nav-wrapper\">\n",
       "<li><a href=\"/\">Home</a></li>\n",
       "<li><a href=\"/about/\">About</a></li>\n",
       "<li><a href=\"https://discuss.pyladies.com\">Forum</a></li>\n",
       "<li><a href=\"/locations/\">Locations</a></li>\n",
       "<li><a href=\"https://blog.pyladies.com\">Blog</a></li>\n",
       "<li><a href=\"/CodeOfConduct/\">Code of Conduct</a></li>\n",
       "<li><a href=\"/resources/\">Resources</a></li>\n",
       "<li><a href=\"/cdn-cgi/l/email-protection#a8c1c6cec7e8d8d1c4c9ccc1cddb86cbc7c597dbddcac2cdcbdc95e0cdc4c4c7\" id=\"contact-link\">Contact</a></li>\n",
       "<li><a href=\"http://pyladies.com/feed.xml\" title=\"RSS\">RSS</a></li>\n",
       "</ul>\n",
       "</nav>\n",
       "</div>"
      ]
     },
     "execution_count": 18,
     "metadata": {},
     "output_type": "execute_result"
    }
   ],
   "source": [
    "soup.body.div"
   ]
  },
  {
   "cell_type": "code",
   "execution_count": 19,
   "metadata": {},
   "outputs": [
    {
     "data": {
      "text/plain": [
       "<a href=\"/\"><img alt=\"PyLadies Logo\" height=\"120\" src=\"/assets/images/pyladies_logo.png\" width=\"260\"/></a>"
      ]
     },
     "execution_count": 19,
     "metadata": {},
     "output_type": "execute_result"
    }
   ],
   "source": [
    "soup.find_all('a')      # finds all <a> elements\n",
    "soup.find_all('a')[0]   # reference the first <a> element\n",
    "soup.find_all('a')[1]   # reference the second <a> element"
   ]
  },
  {
   "cell_type": "code",
   "execution_count": 20,
   "metadata": {},
   "outputs": [
    {
     "name": "stdout",
     "output_type": "stream",
     "text": [
      "<a class=\"github-corner\" href=\"https://github.com/pyladies/pyladies\"><svg height=\"80\" style=\"fill:rgb(255, 100, 100); color:#fff; position: absolute; top: 0; border: 0; left: 0; transform: scale(-1, 1);\" viewbox=\"0 0 250 250\" width=\"80\"><path d=\"M0,0 L115,115 L130,115 L142,142 L250,250 L250,0 Z\"></path><path class=\"octo-arm\" d=\"M128.3,109.0 C113.8,99.7 119.0,89.6 119.0,89.6 C122.0,82.7 120.5,78.6 120.5,78.6 C119.2,72.0 123.4,76.3 123.4,76.3 C127.3,80.9 125.5,87.3 125.5,87.3 C122.9,97.6 130.6,101.9 134.4,103.2\" fill=\"currentColor\" style=\"transform-origin: 130px 106px;\"></path><path class=\"octo-body\" d=\"M115.0,115.0 C114.9,115.1 118.7,116.5 119.8,115.4 L133.7,101.6 C136.9,99.2 139.9,98.4 142.2,98.6 C133.8,88.0 127.5,74.4 143.8,58.0 C148.5,53.4 154.0,51.2 159.7,51.0 C160.3,49.4 163.2,43.6 171.4,40.1 C171.4,40.1 176.1,42.5 178.8,56.2 C183.1,58.6 187.2,61.8 190.9,65.4 C194.5,69.0 197.7,73.2 200.1,77.6 C213.8,80.2 216.3,84.9 216.3,84.9 C212.7,93.1 206.9,96.0 205.4,96.6 C205.1,102.4 203.0,107.8 198.3,112.5 C181.9,128.9 168.3,122.5 157.7,114.1 C157.9,116.9 156.7,120.9 152.7,124.9 L141.0,136.5 C139.8,137.7 141.6,141.9 141.8,141.8 Z\" fill=\"currentColor\"></path></svg></a>\n",
      "<a href=\"/\"><img alt=\"PyLadies Logo\" height=\"120\" src=\"/assets/images/pyladies_logo.png\" width=\"260\"/></a>\n",
      "<a href=\"/\">Home</a>\n",
      "<a href=\"/about/\">About</a>\n",
      "<a href=\"https://discuss.pyladies.com\">Forum</a>\n",
      "<a href=\"/locations/\">Locations</a>\n",
      "<a href=\"https://blog.pyladies.com\">Blog</a>\n",
      "<a href=\"/CodeOfConduct/\">Code of Conduct</a>\n",
      "<a href=\"/resources/\">Resources</a>\n",
      "<a href=\"/cdn-cgi/l/email-protection#a8c1c6cec7e8d8d1c4c9ccc1cddb86cbc7c597dbddcac2cdcbdc95e0cdc4c4c7\" id=\"contact-link\">Contact</a>\n",
      "<a href=\"http://pyladies.com/feed.xml\" title=\"RSS\">RSS</a>\n",
      "<a href=\"/blog/PyLadies-Global-Council-Selection-Process-Voting-Now-Open/pyladies-global-council-process-vote/\">PyLadies Global Council Selection Process Voting Now Open!</a>\n",
      "<a class=\"more-link\" href=\"/blog/PyLadies-Global-Council-Selection-Process-Voting-Now-Open/pyladies-global-council-process-vote/\">Read more →</a>\n",
      "<a href=\"/blog/Help-us-decide-our-PyLadies-Projects-and-PyLadies-Global-Council-Selection-Process/help-us-with-pyladies-project-and-council-selection/\">Help us decide our PyLadies Projects and PyLadies Global Council Selection Process!</a>\n",
      "<a class=\"more-link\" href=\"/blog/Help-us-decide-our-PyLadies-Projects-and-PyLadies-Global-Council-Selection-Process/help-us-with-pyladies-project-and-council-selection/\">Read more →</a>\n",
      "<a href=\"/sponsor/\">Sponsor Us</a>\n",
      "<a href=\"https://pyladies.spreadshirt.com/\">Get Swag</a>\n",
      "<a href=\"https://www.stickermule.com/user/1070441144/stickers\">Buy Stickers</a>\n",
      "<a class=\"twitter-timeline\" data-widget-id=\"635861904234258433\" height=\"400\" href=\"https://twitter.com/pyladies/lists/pyladies-locations\" width=\"400\">Tweets from https://twitter.com/pyladies/lists/pyladies-locations</a>\n",
      "<a class=\"icon google-plus\" data-icon=\"\" href=\"https://plus.google.com/communities/108807002736066163985\" title=\"Google+\"></a>\n",
      "<a class=\"icon github\" data-icon=\"\" href=\"https://github.com/pyladies\" title=\"GitHub\"></a>\n",
      "<a class=\"icon rss\" data-icon=\"\" href=\"http://pyladies.com/feed.xml\" title=\"RSS\"></a>\n",
      "<a class=\"icon creative-commons\" data-icon=\"🕅\" href=\"https://creativecommons.org/licenses/by-sa/3.0/\" title=\"Creative Commons\"></a>\n"
     ]
    }
   ],
   "source": [
    "for link in soup.find_all('a'):  # iterate over every <a> tag\n",
    "    print(link)                  # print it to the screen"
   ]
  },
  {
   "cell_type": "code",
   "execution_count": 21,
   "metadata": {},
   "outputs": [
    {
     "name": "stdout",
     "output_type": "stream",
     "text": [
      "\n",
      "\n",
      "Home\n",
      "About\n",
      "Forum\n",
      "Locations\n",
      "Blog\n",
      "Code of Conduct\n",
      "Resources\n",
      "Contact\n",
      "RSS\n",
      "PyLadies Global Council Selection Process Voting Now Open!\n",
      "Read more →\n",
      "Help us decide our PyLadies Projects and PyLadies Global Council Selection Process!\n",
      "Read more →\n",
      "Sponsor Us\n",
      "Get Swag\n",
      "Buy Stickers\n",
      "Tweets from https://twitter.com/pyladies/lists/pyladies-locations\n",
      "\n",
      "\n",
      "\n",
      "\n"
     ]
    }
   ],
   "source": [
    "for link in soup.find_all('a'):  # iterate over every <a> tag\n",
    "    print(link.get_text())       # print it to the screen"
   ]
  },
  {
   "cell_type": "code",
   "execution_count": 24,
   "metadata": {},
   "outputs": [
    {
     "name": "stdout",
     "output_type": "stream",
     "text": [
      "https://github.com/pyladies/pyladies\n",
      "/\n",
      "/\n",
      "/about/\n",
      "https://discuss.pyladies.com\n",
      "/locations/\n",
      "https://blog.pyladies.com\n",
      "/CodeOfConduct/\n",
      "/resources/\n",
      "/cdn-cgi/l/email-protection#a8c1c6cec7e8d8d1c4c9ccc1cddb86cbc7c597dbddcac2cdcbdc95e0cdc4c4c7\n",
      "http://pyladies.com/feed.xml\n",
      "/blog/PyLadies-Global-Council-Selection-Process-Voting-Now-Open/pyladies-global-council-process-vote/\n",
      "/blog/PyLadies-Global-Council-Selection-Process-Voting-Now-Open/pyladies-global-council-process-vote/\n",
      "/blog/Help-us-decide-our-PyLadies-Projects-and-PyLadies-Global-Council-Selection-Process/help-us-with-pyladies-project-and-council-selection/\n",
      "/blog/Help-us-decide-our-PyLadies-Projects-and-PyLadies-Global-Council-Selection-Process/help-us-with-pyladies-project-and-council-selection/\n",
      "/sponsor/\n",
      "https://pyladies.spreadshirt.com/\n",
      "https://www.stickermule.com/user/1070441144/stickers\n",
      "https://twitter.com/pyladies/lists/pyladies-locations\n",
      "https://plus.google.com/communities/108807002736066163985\n",
      "https://github.com/pyladies\n",
      "http://pyladies.com/feed.xml\n",
      "https://creativecommons.org/licenses/by-sa/3.0/\n"
     ]
    }
   ],
   "source": [
    "for link in soup.find_all('a'):\n",
    "    print(link.get('href'))"
   ]
  },
  {
   "cell_type": "code",
   "execution_count": null,
   "metadata": {},
   "outputs": [],
   "source": []
  }
 ],
 "metadata": {
  "kernelspec": {
   "display_name": "Python 3",
   "language": "python",
   "name": "python3"
  },
  "language_info": {
   "codemirror_mode": {
    "name": "ipython",
    "version": 3
   },
   "file_extension": ".py",
   "mimetype": "text/x-python",
   "name": "python",
   "nbconvert_exporter": "python",
   "pygments_lexer": "ipython3",
   "version": "3.6.5"
  }
 },
 "nbformat": 4,
 "nbformat_minor": 2
}
