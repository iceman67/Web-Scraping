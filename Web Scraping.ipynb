{
 "cells": [
  {
   "cell_type": "code",
   "execution_count": 27,
   "metadata": {},
   "outputs": [],
   "source": [
    "#[참고] https://victorydntmd.tistory.com/245\n",
    "#\"scrape\" data from the web\n",
    "#https://towardsdatascience.com/dataset-creation-and-cleaning-web-scraping-using-python-part-1-33afbf360b6b"
   ]
  },
  {
   "cell_type": "code",
   "execution_count": 1,
   "metadata": {},
   "outputs": [],
   "source": [
    "# requests for fetching html of website\n",
    "import requests"
   ]
  },
  {
   "cell_type": "code",
   "execution_count": 2,
   "metadata": {},
   "outputs": [],
   "source": [
    "page_link ='https://beomi.github.io/beomi.github.io_old/'"
   ]
  },
  {
   "cell_type": "code",
   "execution_count": 3,
   "metadata": {},
   "outputs": [],
   "source": [
    "# Make the GET request to a url\n",
    "page_response = requests.get(page_link)"
   ]
  },
  {
   "cell_type": "code",
   "execution_count": 4,
   "metadata": {},
   "outputs": [],
   "source": [
    "html = page_response.text"
   ]
  },
  {
   "cell_type": "code",
   "execution_count": 12,
   "metadata": {},
   "outputs": [],
   "source": [
    "html = '<td id=\"td1\" class=\"title\">' \\\n",
    "       '  <div class=\"tit3\">' \\\n",
    "       '    <a href=\"/movie/bi/mi/basic.nhn?code=161242\" title=\"범죄도시\">범죄도시</a>' \\\n",
    "       '  </div>' \\\n",
    "       '</td>'"
   ]
  },
  {
   "cell_type": "code",
   "execution_count": 13,
   "metadata": {},
   "outputs": [],
   "source": [
    "from bs4 import BeautifulSoup"
   ]
  },
  {
   "cell_type": "code",
   "execution_count": 14,
   "metadata": {},
   "outputs": [],
   "source": [
    "# Create a soup object\n",
    "bs = BeautifulSoup(html, features=\"html.parser\")"
   ]
  },
  {
   "cell_type": "code",
   "execution_count": 15,
   "metadata": {},
   "outputs": [
    {
     "name": "stdout",
     "output_type": "stream",
     "text": [
      "<td class=\"title\" id=\"td1\"> <div class=\"tit3\"> <a href=\"/movie/bi/mi/basic.nhn?code=161242\" title=\"범죄도시\">범죄도시</a> </div></td> <class 'bs4.BeautifulSoup'>\n"
     ]
    }
   ],
   "source": [
    "print(bs, type(bs))\n"
   ]
  },
  {
   "cell_type": "code",
   "execution_count": 16,
   "metadata": {},
   "outputs": [
    {
     "name": "stdout",
     "output_type": "stream",
     "text": [
      "<a href=\"/movie/bi/mi/basic.nhn?code=161242\" title=\"범죄도시\">범죄도시</a> <class 'bs4.element.Tag'>\n"
     ]
    }
   ],
   "source": [
    "tag = bs.a\n",
    "print(tag, type(tag))"
   ]
  },
  {
   "cell_type": "code",
   "execution_count": 17,
   "metadata": {},
   "outputs": [
    {
     "name": "stdout",
     "output_type": "stream",
     "text": [
      "['title']\n"
     ]
    }
   ],
   "source": [
    "tag = bs.td\n",
    "print(tag['class'])"
   ]
  },
  {
   "cell_type": "code",
   "execution_count": 18,
   "metadata": {},
   "outputs": [
    {
     "name": "stdout",
     "output_type": "stream",
     "text": [
      "td1\n"
     ]
    }
   ],
   "source": [
    "print(tag['id'])  "
   ]
  },
  {
   "cell_type": "code",
   "execution_count": 19,
   "metadata": {},
   "outputs": [
    {
     "name": "stdout",
     "output_type": "stream",
     "text": [
      "{'id': 'td1', 'class': ['title']}\n"
     ]
    }
   ],
   "source": [
    "print(tag.attrs) "
   ]
  },
  {
   "cell_type": "code",
   "execution_count": 21,
   "metadata": {},
   "outputs": [],
   "source": [
    "tag = bs.div"
   ]
  },
  {
   "cell_type": "code",
   "execution_count": 26,
   "metadata": {},
   "outputs": [],
   "source": [
    "# 해당 값이 없음 \n",
    "#print(tag['id'])  "
   ]
  },
  {
   "cell_type": "code",
   "execution_count": 23,
   "metadata": {},
   "outputs": [
    {
     "name": "stdout",
     "output_type": "stream",
     "text": [
      "남산의 부장들\n",
      "히트맨\n",
      "미스터 주: 사라진 VIP\n",
      "인셉션\n",
      "스파이 지니어스\n",
      "해치지않아\n",
      "천문: 하늘에 묻는다\n",
      "백두산\n",
      "나쁜 녀석들 : 포에버\n",
      "타오르는 여인의 초상\n",
      "컨테이젼\n",
      "닥터 두리틀\n",
      "클로젯\n",
      "1917\n",
      "미성년\n",
      "시동\n",
      "버즈 오브 프레이(할리 퀸의 황홀한 해방)\n",
      "사마에게\n",
      "지푸라기라도 잡고 싶은 짐승들\n",
      "애비게일\n",
      "사냥의 시간\n",
      "겨울왕국 2\n",
      "포드 V 페라리\n",
      "작은 아씨들\n",
      "미드웨이\n",
      "목격자 : 눈이 없는 아이\n",
      "길버트 그레이프\n",
      "기생충\n",
      "감기\n",
      "페인 앤 글로리\n",
      "나이브스 아웃\n",
      "스타워즈: 라이즈 오브 스카이워커\n",
      "정직한 후보\n",
      "나이트 헌터\n",
      "닥터 슬립\n",
      "조조 래빗\n",
      "하이큐!! 땅 VS 하늘\n",
      "걸캅스\n",
      "변신\n",
      "그린 북\n",
      "터미네이터: 다크 페이트\n",
      "성혜의 나라\n",
      "악질경찰\n",
      "그때 그사람들\n",
      "프라이멀\n",
      "사바하\n",
      "공기인형\n",
      "극한직업\n",
      "수퍼 소닉\n",
      "1987\n"
     ]
    }
   ],
   "source": [
    "from urllib.request import Request, urlopen\n",
    "from bs4 import BeautifulSoup\n",
    "\n",
    "req = Request('http://movie.naver.com/movie/sdb/rank/rmovie.nhn')\n",
    "res = urlopen(req)\n",
    "html = res.read().decode('cp949')\n",
    "\n",
    "bs = BeautifulSoup(html, 'html.parser')\n",
    "tags = bs.findAll('div', attrs={'class': 'tit3'})\n",
    "\n",
    "for tag in tags :\n",
    "    # 검색된 태그에서 a 태그에서 텍스트를 가져옴\n",
    "    print(tag.a.text)\n",
    "\n",
    "# 인덱스를 주고 싶다면 enumerate를 사용한다.\n",
    "# for index, tag in enumerate(tags):\n",
    "#    print(str(index) + \" : \" + tag.a.text)"
   ]
  },
  {
   "cell_type": "code",
   "execution_count": null,
   "metadata": {},
   "outputs": [],
   "source": []
  }
 ],
 "metadata": {
  "kernelspec": {
   "display_name": "Python 3",
   "language": "python",
   "name": "python3"
  },
  "language_info": {
   "codemirror_mode": {
    "name": "ipython",
    "version": 3
   },
   "file_extension": ".py",
   "mimetype": "text/x-python",
   "name": "python",
   "nbconvert_exporter": "python",
   "pygments_lexer": "ipython3",
   "version": "3.6.5"
  }
 },
 "nbformat": 4,
 "nbformat_minor": 2
}
